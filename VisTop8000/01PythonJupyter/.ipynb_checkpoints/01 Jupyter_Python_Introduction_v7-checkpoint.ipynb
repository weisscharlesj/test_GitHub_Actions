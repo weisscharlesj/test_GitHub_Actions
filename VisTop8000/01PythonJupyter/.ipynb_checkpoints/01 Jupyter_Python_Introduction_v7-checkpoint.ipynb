{
 "cells": [
  {
   "cell_type": "markdown",
   "metadata": {},
   "source": [
    "#  <font color = 545AA7> Introduction to Jupyter and Python </font>\n",
    "\n",
    "Before we can begin analyzing protein PDB files, we need to cover some Python and Jupyter notebook basics. This notebook will not make you an expert programmer, but it will give you a quick foundation on skills you will need for the subsequent notebooks. The goals of this notebook are to: \n",
    "- Familiarize everyone with running a **Jupyter notebook**\n",
    "- Provide some basic Python we will use later in this activity including **functions** and **basic plotting**"
   ]
  },
  {
   "cell_type": "markdown",
   "metadata": {},
   "source": [
    "##  <font color = 545AA7> 1. Jupyter Notebooks </font>\n",
    "\n",
    "Jupyter notebooks are a shareable and interactive electronic document that contains two main types of cells: code and markdown. The **code cells** contain live code that can be executed directly inside the Jupyter notebook with any output appearing directly below the code cell. **Markdown cells** can contain text, equation, and images to provide background and instructions to the user.\n",
    "\n",
    "To provide rich content in the markdown cells, equations can be formated using Latex-like syntax (example below), and text can be formated using either the lightweight [markdown language](https://github.com/adam-p/markdown-here/wiki/Markdown-Cheatsheet) or html.\n",
    "\n",
    "*Example equation:*\n",
    "$$ E = E^o - \\frac{RT}{nF}lnQ $$"
   ]
  },
  {
   "cell_type": "code",
   "execution_count": null,
   "metadata": {},
   "outputs": [],
   "source": []
  },
  {
   "cell_type": "markdown",
   "metadata": {},
   "source": [
    "##  <font color = 545AA7> 2. Python Functions </font>\n",
    "\n",
    "The following is a (very) quick introduction to using functions in Python as we will be using this skill in this activity. Python allows the use of functions provided natively with every Python installation. If you are interested in learning more, there are additional resouces at the bottom of this notebook. The general structure of a function is below where $func$ is the function name, and any input is placed inside the parentheses.\n",
    "\n",
    "$$ func(x) $$\n",
    "\n",
    "For example, `abs()` is the absolute value function that comes with Python."
   ]
  },
  {
   "cell_type": "code",
   "execution_count": null,
   "metadata": {},
   "outputs": [],
   "source": []
  },
  {
   "cell_type": "markdown",
   "metadata": {},
   "source": [
    "Python also includes series of **modules** containing more functions, and a list of these modules can be found at [https://docs.python.org/3/py-modindex.html](https://docs.python.org/3/py-modindex.html). Before these modules can be used, they must to be **imported**, which is how Python loads them into memory. The general format is `import <module>`."
   ]
  },
  {
   "cell_type": "code",
   "execution_count": null,
   "metadata": {},
   "outputs": [],
   "source": []
  },
  {
   "cell_type": "markdown",
   "metadata": {},
   "source": [
    "Once a module has been imported, any function in that module may be executed using the format `module.func()`. For example, there is a square root function in the `math` module called `sqrt()`. To call (i.e., run) this function, we need to type `math.sqrt()`."
   ]
  },
  {
   "cell_type": "code",
   "execution_count": null,
   "metadata": {},
   "outputs": [],
   "source": []
  },
  {
   "cell_type": "markdown",
   "metadata": {},
   "source": [
    "### Function Docstrings\n",
    "\n",
    "If you're not sure how to use and function or what it does, place the cursor in or after the parentheses of the fucntion and press **Shift + Tab**. The Docstring will appea providing a breif description and/or set of instructions"
   ]
  },
  {
   "cell_type": "code",
   "execution_count": null,
   "metadata": {},
   "outputs": [],
   "source": []
  },
  {
   "cell_type": "code",
   "execution_count": null,
   "metadata": {},
   "outputs": [],
   "source": []
  },
  {
   "cell_type": "markdown",
   "metadata": {},
   "source": [
    "## <font color = 545AA7> 3. External Libraries </font>\n",
    "\n",
    "While Python comes with an impressive collection of modules, there are often tasks that users want to complete that are not covered with the native Python modules. For this, users can import external **libraries**. A list of common Python scientific libraries are listed below with breif description.\n",
    "\n",
    "Libraries can contain submodules which are collections of functions/data with a similar theme or purpose. Examples of submodules in the SciPy library are listed below as an example.\n",
    "\n",
    "- [**SciPy:**](https://www.scipy.org/scipylib/index.html) includes common function for scientific data processing tasks like signal processing, interpolation, optimization, etc...\n",
    "    - signal: signal processing tools\n",
    "    - fft: fast Fourier processing tools\n",
    "    - optimize: optimization tools\n",
    "    - integrate: integration functions\n",
    "    - stats: statistics functions\n",
    "    - constants: collection of scientific constants\n",
    "- [**NumPy:**](https://numpy.org/) basic library to handeling larger amounts of data and includes additional mathematical functions\n",
    "- [**Pandas:**](https://pandas.pydata.org/) more advanced library for handeling data\n",
    "- [**Matplotlib:**](https://matplotlib.org/) standard data plotting and visuallization library\n",
    "- [**Seaborn:**](https://seaborn.pydata.org/) more advanced data plotting and visualization library\n",
    "- [**SymPy:**](https://www.sympy.org/en/index.html) symbolic mathematics library \n",
    "- [**Biopython:**](https://biopython.org/) bioinformatics library\n",
    "- [**Scikit-image:**](https://scikit-image.org/) scientific image processing library\n",
    "- [**Scikit-learn:**](https://scikit-learn.org/stable/) general purpose machine learning library\n",
    "\n",
    "Almost all of the above libraries come with the [Anaconda](https://www.anaconda.com/products/individual#Downloads) installation of Python, so you should have most of these already installed (except Biopython)."
   ]
  },
  {
   "cell_type": "markdown",
   "metadata": {},
   "source": [
    "## <font color = 545AA7> 4. Plotting with Matplotlib </font>\n",
    "\n",
    "Matplotlib is a common plottling library using with Python to visualize data. The following commands need to be run in order to import the matplotlib library and to set plotting to display the outputs inside the Jupyter notebook, respectively.\n",
    "\n",
    "~~~python\n",
    "import matplotlib.pyplot as plt\n",
    "%matplotlib inline\n",
    "~~~"
   ]
  },
  {
   "cell_type": "code",
   "execution_count": null,
   "metadata": {},
   "outputs": [],
   "source": []
  },
  {
   "cell_type": "markdown",
   "metadata": {},
   "source": [
    "Proteins may be composed of a single peptide chain or multiple peptide chains. Below is some data on the number of structures in the Top8000 dataset that contains 1 $\\rightarrow$ 9 peptide chains. \n",
    "\n",
    "*Note: some structures in the Top8000 dataset contain more peptide chains that nine, but for this activity, we will focus on 1 $\\rightarrow$ 9.*"
   ]
  },
  {
   "cell_type": "code",
   "execution_count": 1,
   "metadata": {},
   "outputs": [],
   "source": [
    "chains = [1,  2,  3,  4,  5,  6,  7,  8,  9]\n",
    "counts = [3235, 2847, 403, 953, 47, 223, 7, 137, 7]"
   ]
  },
  {
   "cell_type": "markdown",
   "metadata": {},
   "source": [
    "We can plot data as a **scatter plot** using the `plt.scatter()` function. This function requires the `x` and `y` data as shown below.\n",
    "\n",
    "~~~python\n",
    "plt.scatter(x, y)\n",
    "~~~\n",
    "\n",
    "The following lines can also be included to add title, x-labels, and y-labels on the plot. Be sure to keep the quotes around your text!\n",
    "\n",
    "~~~python\n",
    "plt.title('Text')\n",
    "plt.xlabel('Text')\n",
    "plt.ylabel('Text')\n",
    "~~~"
   ]
  },
  {
   "cell_type": "code",
   "execution_count": null,
   "metadata": {},
   "outputs": [],
   "source": []
  },
  {
   "cell_type": "markdown",
   "metadata": {},
   "source": [
    "### <font color = 545AA7> Matplotlib Functions </font>\n",
    "\n",
    "Matplotlib includes a series of functions for generating different types\n",
    "\n",
    "- `plt.scatter(x,y)`: yields scatter plot with just markers\n",
    "- `plt.plot(x,y)`: yields line plot, markers optional\n",
    "- `plt.bar(x,y)`: yields bar plot\n",
    "- `plt.stem(x,y)`: yields stem plot (like scatter plot with lines to x-axis\n",
    "- `plt.boxplot(x,y)`: yields box plot\n",
    "- `plt.hist(nums)`: yields histogram plot showing distribution of values in dataset\n",
    "- `plt.pie(nums)`: yields a pie plot showing relative ratios"
   ]
  },
  {
   "cell_type": "code",
   "execution_count": null,
   "metadata": {},
   "outputs": [],
   "source": []
  },
  {
   "cell_type": "code",
   "execution_count": null,
   "metadata": {},
   "outputs": [],
   "source": []
  },
  {
   "cell_type": "markdown",
   "metadata": {},
   "source": [
    "## <font color = F28500> Plotting Activity</font>\n",
    "\n",
    "Below is a series of data either included in the Jupyter notebook or imported from an external file. Follow the instructions to visualize these data. "
   ]
  },
  {
   "cell_type": "markdown",
   "metadata": {},
   "source": [
    "### <font color = F28500> a. Other Plotting Types </font>\n",
    "\n",
    "<font color = F28500> Display the above oligomer data using the following plotting function. </font>\n",
    "\n",
    "~~~python\n",
    "plt.plot(x, y, 'o--')\n",
    "~~~\n",
    "\n",
    "The `o-` tells the function to use circles for markers and to connect them with a line. Other markers (e.g.,`p`, `^`, or `s`) or line types (e.g., `--` or `-.`) can be used if desired. "
   ]
  },
  {
   "cell_type": "code",
   "execution_count": null,
   "metadata": {},
   "outputs": [],
   "source": []
  },
  {
   "cell_type": "markdown",
   "metadata": {},
   "source": [
    "### <font color = F28500> b. Hisogram Plots</font>\n",
    "\n",
    "A **histogram plot** is a frequency plot that shows how many values fall within each set of ranges known as bins. It looks like a bar plot except that the width of the bars is significant and the histogram function automatically tallies the data to see how many values go in each bin. The matplotlib histogram function is shown below. The first example only provides the data and allows the function to choose how many bins are appropriate. The second example provides the plotting function both the data and explicitly mandates that the data be sorted into 10 bins. You can change the number of bins to suit your data.\n",
    "\n",
    "~~~python\n",
    "plt.hist(data)\n",
    "\n",
    "plt.hist(data, bins=10)\n",
    "~~~\n",
    "\n",
    "If you want to zoom in on the graph, you can set the x-axis limits using the `plt.xlim()` function. Just add it to another line in the same code cell as the main plotting function.\n",
    "\n",
    "~~~python\n",
    "plt.xlim(min, max)\n",
    "~~~\n",
    "\n",
    "<font color = F28500> Below is code that loads peptide bond length data from an external file into the variable `lengths`. Visualize these data using a histogram plot. </font>"
   ]
  },
  {
   "cell_type": "code",
   "execution_count": 2,
   "metadata": {},
   "outputs": [],
   "source": [
    "import numpy as np\n",
    "lengths = np.genfromtxt('amide_bond_lengths.csv', delimiter=',')"
   ]
  },
  {
   "cell_type": "code",
   "execution_count": null,
   "metadata": {},
   "outputs": [],
   "source": []
  },
  {
   "cell_type": "markdown",
   "metadata": {},
   "source": [
    "## <font color = 545AA7> Additional Resources </font>\n",
    "\n",
    "Additional resources for learning Python and plotting are listed below.\n",
    "- **Scientific Computing for Chemists** is a <u>free</u> electronic textbook for learning and teaching Python, Jupyter notebooks, and applying these skills to solving chemical problems available at [https://github.com/weisscharlesj/SciCompforChemists](https://github.com/weisscharlesj/SciCompforChemists)\n",
    "- The [offical Python website](https://www.python.org/) is a good resource about pure Python\n",
    "- For information about SciPy and the SciPy stack, see the [SciPy Website](https://www.scipy.org/)"
   ]
  }
 ],
 "metadata": {
  "kernelspec": {
   "display_name": "Python 3 (ipykernel)",
   "language": "python",
   "name": "python3"
  },
  "language_info": {
   "codemirror_mode": {
    "name": "ipython",
    "version": 3
   },
   "file_extension": ".py",
   "mimetype": "text/x-python",
   "name": "python",
   "nbconvert_exporter": "python",
   "pygments_lexer": "ipython3",
   "version": "3.9.7"
  }
 },
 "nbformat": 4,
 "nbformat_minor": 4
}
