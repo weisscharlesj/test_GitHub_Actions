{
 "cells": [
  {
   "cell_type": "markdown",
   "metadata": {},
   "source": [
    "#  <font color = 545AA7> Notebook 2: Introduction to PDB Files and Biopython </font>\n",
    "\n",
    "For this activity, we will exam the structures of proteins in **PDB (Protein Data Bank) files** using the **biopython** library. The goals of this activity are listed below:\n",
    "\n",
    "- Examine the structure of a PDB file\n",
    "- Use biopython to load PDB files and extract information\n",
    "- Visualize the extracted information"
   ]
  },
  {
   "cell_type": "markdown",
   "metadata": {},
   "source": [
    "##  <font color = 545AA7> 1. Download a PDB File </font>\n",
    "\n",
    "To  obtain protein structural data, the Protein Data Bank website at [https://www.rcsb.org/](https://www.rcsb.org/) provides free access to protein cyrstal structures. To aquire a PDB file, go to this website, find the structure you're looking for, and downnload it in the **PDB Format**. It is important to move the downloaded file into the folder with this Jupyter notebook. When Jupyter looks for a file, it looks in the same directory/folder as the Jupyter notebook unless told otherwise. For this activity, your data has already beend downloaded.\n",
    "\n",
    "\n",
    "![](download_PDB.png)"
   ]
  },
  {
   "cell_type": "markdown",
   "metadata": {},
   "source": [
    "##  <font color = 545AA7> 2. PDB Format and Parsing </font>\n",
    "\n",
    "While some other bioinformatics file formats online include mainly sequence data, the PDB file format provides an assortmet of information including:\n",
    "\n",
    "- Amino acid sequence\n",
    "- Non-amino acid species\n",
    "- *xyz* coordinates of atoms indentified in structure (does not typically include hydrogens)\n",
    "- Metadata about the protein (e.g., host specie and enzyme class)\n",
    "- Information about helix and sheet secondary structures\n",
    "\n",
    "PDB files are text files with the data arranged with specific labels and seperated by strictly-delineated *position* in a line in the file. For more information on PDB file formats, see [https://www.cgl.ucsf.edu/chimera/docs/UsersGuide/tutorials/pdbintro.html](https://www.cgl.ucsf.edu/chimera/docs/UsersGuide/tutorials/pdbintro.html).\n",
    "\n",
    "### <font color = F28500> Be sure to run the following code cell. </font>"
   ]
  },
  {
   "cell_type": "code",
   "execution_count": 1,
   "metadata": {},
   "outputs": [],
   "source": [
    "import warnings\n",
    "from Bio import BiopythonWarning\n",
    "warnings.simplefilter('ignore', BiopythonWarning)\n",
    "\n",
    "import os\n",
    "\n",
    "import matplotlib.pyplot as plt\n",
    "%matplotlib inline\n",
    "import seaborn as sns\n",
    "import pandas as pd\n",
    "\n",
    "import Bio.PDB"
   ]
  },
  {
   "cell_type": "markdown",
   "metadata": {},
   "source": [
    "##  <font color = 545AA7> 3. Parsing PDB Files </font>\n",
    "\n",
    "\n",
    "There are multiple ways of **parsing** data (i.e., seperating data into pieces) from the PDB files. In this activity, we will use the biopython library's PDB reading capabilities. First, we need to import the **PDB module** of the biopython library with the `import Bio.PDB` import command.\n",
    "\n",
    "To parse the PDB file, we first create a **parser object** using the `Bio.PDB.PDBParser()` function. Like previous functions, we need to include the name of the library/module it is in, so in this case, `Bio.PDB.PDBParser()` means the `PDBParser()` function in the `PDB` module of the `Bio` (biopython) library. Think of this like a directory system of nested folders on your computer (e.g., /User/Documents/Python_Projects).\n",
    "\n",
    "We will also want to attach our parser object to a variable using the `=` symbol the same way we attach a number to a variable. Run the following code in a code cell.\n",
    "\n",
    "~~~python\n",
    "parser = Bio.PDB.PDBParser()\n",
    "~~~"
   ]
  },
  {
   "cell_type": "markdown",
   "metadata": {},
   "source": [
    "Let's now use the `PDBParser().get_structure()` function to parse a single PDB. By default, <u> any code run in a Jupyter notebook will look in the same directory (i.e., folder) as the Jupyter notebook for the file </u>. We will use the `get_structure()` function as follows. This function requires two inputs: the first is some name you provide in quotes (singel or double) followed by the full name of the file in quotes.\n",
    "\n",
    "~~~python\n",
    "parser.get_structure('name', 'file_name.pdb')\n",
    "~~~"
   ]
  },
  {
   "cell_type": "code",
   "execution_count": 2,
   "metadata": {},
   "outputs": [],
   "source": [
    "parser = Bio.PDB.PDBParser()\n",
    "structure = parser.get_structure('6x8j', '6x8j.pdb')"
   ]
  },
  {
   "cell_type": "markdown",
   "metadata": {},
   "source": [
    "##  <font color = 545AA7> 4. Structure of the Data </font>\n",
    "\n",
    "\n",
    "The structural data extracted from the PDB by biopython is organized in a heierarchy starting with the **structure** $\\rightarrow$ **model** $\\rightarrow$ **chain** $\\rightarrow$ **residue** $\\rightarrow$ **atom**. The structure is the protein, the model is a particular 3D model of the protein, the chain is a single peptide chain in the protein, the residue is an amino acid residue in the chain, and the atom is each atom within a given chain. \n",
    "\n",
    "| Level    |    Description      |\n",
    "|:----------:|:---------------------|\n",
    "|Structure   | Protein strucutre; may contain multiple models     |\n",
    "|Model       | Particular 3D model of the protein  |\n",
    "|Chain       | Each pepetide chain in the protein  |\n",
    "|Residue     | Amino acid residue in a given chain |\n",
    "|Atom        | Atoms in a particular peptide chain |\n",
    "\n",
    "While PDB files can contain multiple structures of a protein, most only contain one. Even though there is only one model in our data, we will need to access the first (and only) model using indexing. In square brackets `[]` behind the variable, give the number of the item you want to access. In Python indexing, numbering starts with zero, so the first protein model is `structure[0]`. If there were a second, it would be `structure[1]`."
   ]
  },
  {
   "cell_type": "markdown",
   "metadata": {},
   "source": [
    "Using a `for` loop, we can run through your protein model to see how many chains are in it. The code below systematically goes through ever chain in the `protein_model`, assigns in to the variable `chain`, and then prints (i.e., displays on the screen) the information."
   ]
  },
  {
   "cell_type": "code",
   "execution_count": 3,
   "metadata": {},
   "outputs": [
    {
     "name": "stdout",
     "output_type": "stream",
     "text": [
      "<Chain id=A>\n",
      "<Chain id=C>\n",
      "<Chain id=B>\n",
      "<Chain id=D>\n",
      "<Chain id=E>\n",
      "<Chain id=F>\n"
     ]
    }
   ],
   "source": [
    "protein_model = structure[0]\n",
    "\n",
    "for chain in protein_model:\n",
    "    print(chain)"
   ]
  },
  {
   "cell_type": "markdown",
   "metadata": {},
   "source": [
    "To access a particular chain, use the chain's `id`. For example, to access Chain A, type `protein_model['A']`.Select the first chain and attach its information to an intuative variable of your choice."
   ]
  },
  {
   "cell_type": "code",
   "execution_count": 4,
   "metadata": {},
   "outputs": [
    {
     "data": {
      "text/plain": [
       "<Residue TYR het=  resseq=58 icode= >"
      ]
     },
     "execution_count": 4,
     "metadata": {},
     "output_type": "execute_result"
    }
   ],
   "source": [
    "chain_A = protein_model['A']\n",
    "res = chain_A[58]\n",
    "res"
   ]
  },
  {
   "cell_type": "code",
   "execution_count": 5,
   "metadata": {},
   "outputs": [
    {
     "data": {
      "text/plain": [
       "[<Atom N>,\n",
       " <Atom CA>,\n",
       " <Atom C>,\n",
       " <Atom O>,\n",
       " <Atom CB>,\n",
       " <Atom CG>,\n",
       " <Atom CD1>,\n",
       " <Atom CD2>,\n",
       " <Atom CE1>,\n",
       " <Atom CE2>,\n",
       " <Atom CZ>,\n",
       " <Atom OH>]"
      ]
     },
     "execution_count": 5,
     "metadata": {},
     "output_type": "execute_result"
    }
   ],
   "source": [
    "res.get_unpacked_list()"
   ]
  },
  {
   "cell_type": "markdown",
   "metadata": {},
   "source": [
    "##  <font color = 545AA7> 5. Examining Amino Acid Frequency </font>\n",
    "\n",
    "### <Font color = 545aa7> a. All Amino Acids in Protein </font>\n",
    "\n",
    "Next, we will look at and visualize the amino acid residue distribution in our protein. Below is code that you can run that iterates through the peptides and adds each amino acid residue identity to a list called `amino_acids`."
   ]
  },
  {
   "cell_type": "code",
   "execution_count": 6,
   "metadata": {},
   "outputs": [],
   "source": [
    "def get_aa(file):\n",
    "    '''Accepts a PDB files name (string) and returns a list of residues\n",
    "    that occur in a peptide.\n",
    "    \n",
    "     >>> ('1abc.pdb') -> ['GLY', 'ALA', 'LYS']\n",
    "    '''\n",
    "\n",
    "    amino_acids = []  # empty list to add the amino acids to\n",
    "\n",
    "    parser = Bio.PDB.PDBParser()\n",
    "    structure = parser.get_structure('6x8j', '6x8j.pdb')\n",
    "    pp = Bio.PDB.PPBuilder().build_peptides(structure[0])\n",
    "\n",
    "    # go through each chain and residue and append the amino acid identity to the list\n",
    "    for chain in pp:\n",
    "        for res in chain:\n",
    "            res_name = res.get_resname()\n",
    "            amino_acids.append(res_name)\n",
    "            \n",
    "    return amino_acids "
   ]
  },
  {
   "cell_type": "code",
   "execution_count": 7,
   "metadata": {},
   "outputs": [],
   "source": [
    "amino_acids = get_aa('6x8j.pdb')"
   ]
  },
  {
   "cell_type": "markdown",
   "metadata": {},
   "source": [
    "### <font color = F28500> Visualization Using a countplot() </font>\n",
    "\n",
    "Next, we will visualize the above data using the **seaborn** plotting library's `sns.coutplot()` function. This plotting function takes in the data and tallies the number of occurances of each value in the data. In this case, the data are stored in the variable `sense`.\n",
    "\n",
    "~~~python\n",
    "sns.countplot(x=<data>)\n",
    "plt.xticks(rotation=45)\n",
    "plt.show()\n",
    "~~~"
   ]
  },
  {
   "cell_type": "code",
   "execution_count": 8,
   "metadata": {},
   "outputs": [
    {
     "data": {
      "image/png": "[encoded data removed]",
      "text/plain": [
       "<Figure size 640x480 with 1 Axes>"
      ]
     },
     "metadata": {},
     "output_type": "display_data"
    }
   ],
   "source": [
    "sns.countplot(x=amino_acids, color='C00')\n",
    "plt.xticks(rotation=45)\n",
    "plt.show()"
   ]
  },
  {
   "cell_type": "markdown",
   "metadata": {},
   "source": [
    "### <Font color = 545aa7> b. Amino Acids in Helicies and Sheets </font>\n",
    "\n",
    "Next, we will harvest lists of amino acids residues that occur at the start of a helix or sheet. *Note: not all helicies are $\\alpha$-helicies as there are a fare number of $3_{10}$-helices in this dataset as well.*"
   ]
  },
  {
   "cell_type": "code",
   "execution_count": 9,
   "metadata": {},
   "outputs": [],
   "source": [
    "def get_helix_start(file):\n",
    "    '''Accepts a PDB files name (string) and returns a list of residues\n",
    "    that occur at the start of a helix.\n",
    "    \n",
    "     >>> ('1abc.pdb') -> ['GLY', 'ALA', 'LYS']\n",
    "    '''\n",
    "    \n",
    "    AA_list = []\n",
    "    \n",
    "    with open(file, 'r') as f:\n",
    "        for line in f:\n",
    "            if line.startswith('HELIX'):\n",
    "                AA_list.append(line[15:18])\n",
    "    \n",
    "    return AA_list"
   ]
  },
  {
   "cell_type": "code",
   "execution_count": 10,
   "metadata": {},
   "outputs": [],
   "source": [
    "def get_sheet_start(file):\n",
    "    '''Accepts a PDB files name (string) and returns a list of residues\n",
    "    that occur at the start of a sheet.\n",
    "    \n",
    "     >>> ('1abc.pdb') -> ['GLY', 'ALA', 'LYS']\n",
    "    '''\n",
    "    \n",
    "    AA_list = []\n",
    "    \n",
    "    with open(file, 'r') as f:\n",
    "        for line in f:\n",
    "            if line.startswith('SHEET'):\n",
    "                AA_list.append(line[17:20])\n",
    "    \n",
    "    \n",
    "    return AA_list"
   ]
  },
  {
   "cell_type": "markdown",
   "metadata": {},
   "source": [
    "Now that we have the fuctions created, instead of just running them on a single PDB file, we will have Python run them <u>on an entire folder of PDB files</u>."
   ]
  },
  {
   "cell_type": "code",
   "execution_count": 11,
   "metadata": {},
   "outputs": [],
   "source": [
    "path, _ = os.path.split(os.getcwd())\n",
    "top80 = os.path.join(path, 'Top80')\n",
    "\n",
    "helix_start = []\n",
    "sheet_start = []\n",
    "general = []\n",
    "\n",
    "for file in os.listdir(top80):\n",
    "    if file.endswith('pdb'):\n",
    "        helix_start.extend(get_helix_start(os.path.join(top80,file)))\n",
    "        sheet_start.extend(get_sheet_start(os.path.join(top80,file)))\n",
    "        general.extend(get_aa(os.path.join(top80,file)))"
   ]
  },
  {
   "cell_type": "markdown",
   "metadata": {},
   "source": [
    "### <font color = F28500> Let's now plot the result. </font>"
   ]
  },
  {
   "cell_type": "code",
   "execution_count": 12,
   "metadata": {},
   "outputs": [
    {
     "data": {
      "image/png": "[encoded data removed]",
      "text/plain": [
       "<Figure size 640x480 with 1 Axes>"
      ]
     },
     "metadata": {},
     "output_type": "display_data"
    }
   ],
   "source": [
    "sns.countplot(x=helix_start, palette='viridis')\n",
    "plt.xticks(rotation=90)\n",
    "plt.show()"
   ]
  },
  {
   "cell_type": "markdown",
   "metadata": {},
   "source": [
    "We can combine the two lists of amino acids and plot them in the same plot to better see how the occurance of the amino acids appear at the start of different secondary structures."
   ]
  },
  {
   "cell_type": "code",
   "execution_count": 13,
   "metadata": {},
   "outputs": [
    {
     "data": {
      "text/html": [
       "<div>\n",
       "<style scoped>\n",
       "    .dataframe tbody tr th:only-of-type {\n",
       "        vertical-align: middle;\n",
       "    }\n",
       "\n",
       "    .dataframe tbody tr th {\n",
       "        vertical-align: top;\n",
       "    }\n",
       "\n",
       "    .dataframe thead th {\n",
       "        text-align: right;\n",
       "    }\n",
       "</style>\n",
       "<table border=\"1\" class=\"dataframe\">\n",
       "  <thead>\n",
       "    <tr style=\"text-align: right;\">\n",
       "      <th></th>\n",
       "      <th>amino_acid</th>\n",
       "      <th>location</th>\n",
       "    </tr>\n",
       "  </thead>\n",
       "  <tbody>\n",
       "    <tr>\n",
       "      <th>0</th>\n",
       "      <td>SER</td>\n",
       "      <td>helix_start</td>\n",
       "    </tr>\n",
       "    <tr>\n",
       "      <th>1</th>\n",
       "      <td>GLY</td>\n",
       "      <td>helix_start</td>\n",
       "    </tr>\n",
       "    <tr>\n",
       "      <th>2</th>\n",
       "      <td>ASN</td>\n",
       "      <td>helix_start</td>\n",
       "    </tr>\n",
       "    <tr>\n",
       "      <th>3</th>\n",
       "      <td>THR</td>\n",
       "      <td>helix_start</td>\n",
       "    </tr>\n",
       "    <tr>\n",
       "      <th>4</th>\n",
       "      <td>ILE</td>\n",
       "      <td>helix_start</td>\n",
       "    </tr>\n",
       "    <tr>\n",
       "      <th>...</th>\n",
       "      <td>...</td>\n",
       "      <td>...</td>\n",
       "    </tr>\n",
       "    <tr>\n",
       "      <th>1726</th>\n",
       "      <td>THR</td>\n",
       "      <td>sheet_start</td>\n",
       "    </tr>\n",
       "    <tr>\n",
       "      <th>1727</th>\n",
       "      <td>VAL</td>\n",
       "      <td>sheet_start</td>\n",
       "    </tr>\n",
       "    <tr>\n",
       "      <th>1728</th>\n",
       "      <td>GLU</td>\n",
       "      <td>sheet_start</td>\n",
       "    </tr>\n",
       "    <tr>\n",
       "      <th>1729</th>\n",
       "      <td>SER</td>\n",
       "      <td>sheet_start</td>\n",
       "    </tr>\n",
       "    <tr>\n",
       "      <th>1730</th>\n",
       "      <td>PHE</td>\n",
       "      <td>sheet_start</td>\n",
       "    </tr>\n",
       "  </tbody>\n",
       "</table>\n",
       "<p>3279 rows × 2 columns</p>\n",
       "</div>"
      ],
      "text/plain": [
       "     amino_acid     location\n",
       "0           SER  helix_start\n",
       "1           GLY  helix_start\n",
       "2           ASN  helix_start\n",
       "3           THR  helix_start\n",
       "4           ILE  helix_start\n",
       "...         ...          ...\n",
       "1726        THR  sheet_start\n",
       "1727        VAL  sheet_start\n",
       "1728        GLU  sheet_start\n",
       "1729        SER  sheet_start\n",
       "1730        PHE  sheet_start\n",
       "\n",
       "[3279 rows x 2 columns]"
      ]
     },
     "execution_count": 13,
     "metadata": {},
     "output_type": "execute_result"
    }
   ],
   "source": [
    "import pandas as pd\n",
    "\n",
    "#df_aa = pd.DataFrame([general, len(general) *['general']]).transpose()\n",
    "df_hel = pd.DataFrame([helix_start, len(helix_start) *['helix_start']]).transpose()\n",
    "df_beta = pd.DataFrame([sheet_start, len(sheet_start) *['sheet_start']]).transpose()\n",
    "\n",
    "df = pd.concat((df_hel, df_beta))\n",
    "df.columns = ['amino_acid', 'location']\n",
    "\n",
    "df"
   ]
  },
  {
   "cell_type": "code",
   "execution_count": 14,
   "metadata": {},
   "outputs": [
    {
     "data": {
      "image/png": "[encoded data removed]",
      "text/plain": [
       "<Figure size 640x480 with 1 Axes>"
      ]
     },
     "metadata": {},
     "output_type": "display_data"
    }
   ],
   "source": [
    "sns.countplot(x=df['amino_acid'], hue=df['location'])\n",
    "plt.xticks(rotation=45)\n",
    "plt.show()"
   ]
  },
  {
   "cell_type": "code",
   "execution_count": null,
   "metadata": {},
   "outputs": [],
   "source": []
  },
  {
   "cell_type": "markdown",
   "metadata": {},
   "source": [
    "##  <font color = 545AA7> 6. Examining $\\beta$-Sheets </font>\n",
    "\n",
    "The $\\beta$-sheets in proteins consist of amino acid strands that may or may not be adjacent to each other in a peptide strand, and the adjacent strands in a $\\beta$-sheet may be parallel or anti-parallel. PDB files contain information as to the direction of the strands by marking a segment of a $\\beta$-sheet as `0` if is is the first segment of a sheet, `1` if a segment is parallel with the previous segment in the sheet, and `-1` is a segment is anti-parallel with a previous segment of a $\\beta$-sheet.\n",
    "\n",
    "![](5CPA_public_domain_image.png)"
   ]
  },
  {
   "cell_type": "markdown",
   "metadata": {},
   "source": [
    "The following code creates a function called `get_sheet_direction()` to harvest the relationship of each strand with the previous one in the $\\beta$-sheets. The next code block "
   ]
  },
  {
   "cell_type": "code",
   "execution_count": 15,
   "metadata": {},
   "outputs": [],
   "source": [
    "def get_sheet_direction(file):\n",
    "    '''Accepts a PDB files name (string) and returns a list\n",
    "    of values indicating if a strand starts a beta sheet (0),\n",
    "    strand is parallel to the previous strand (1), or is\n",
    "    anti-parallel to the previous strand (-1).\n",
    "    \n",
    "     >>> ('1abc.pdb') -> [0, 1, 1, 1, -1]\n",
    "    '''\n",
    "    \n",
    "    structure_list = []\n",
    "    \n",
    "    with open(file, 'r') as f:\n",
    "        for line in f:\n",
    "            if line.startswith('SHEET'):\n",
    "                sense = int(line[38:40].strip())\n",
    "                structure_list.append(sense)\n",
    "    \n",
    "    \n",
    "    return structure_list"
   ]
  },
  {
   "cell_type": "code",
   "execution_count": 16,
   "metadata": {},
   "outputs": [],
   "source": [
    "current_directory = os.getcwd()[:-11]\n",
    "top80 = os.path.join(current_directory, 'Top80')\n",
    "\n",
    "sense = []\n",
    "\n",
    "for file in os.listdir(top80):\n",
    "    if file.endswith('pdb'):\n",
    "        sense.extend(get_sheet_direction(os.path.join(top80,file)))"
   ]
  },
  {
   "cell_type": "code",
   "execution_count": 17,
   "metadata": {},
   "outputs": [
    {
     "data": {
      "text/plain": [
       "<Axes: ylabel='count'>"
      ]
     },
     "execution_count": 17,
     "metadata": {},
     "output_type": "execute_result"
    },
    {
     "data": {
      "image/png": "[encoded data removed]",
      "text/plain": [
       "<Figure size 640x480 with 1 Axes>"
      ]
     },
     "metadata": {},
     "output_type": "display_data"
    }
   ],
   "source": [
    "sns.countplot(x=sense)"
   ]
  }
 ],
 "metadata": {
  "kernelspec": {
   "display_name": "Python 3 (ipykernel)",
   "language": "python",
   "name": "python3"
  },
  "language_info": {
   "codemirror_mode": {
    "name": "ipython",
    "version": 3
   },
   "file_extension": ".py",
   "mimetype": "text/x-python",
   "name": "python",
   "nbconvert_exporter": "python",
   "pygments_lexer": "ipython3",
   "version": "3.10.11"
  }
 },
 "nbformat": 4,
 "nbformat_minor": 4
}